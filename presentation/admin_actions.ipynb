{
 "cells": [
  {
   "cell_type": "markdown",
   "metadata": {},
   "source": [
    "## Admin Actions\n",
    "\n",
    "Este archivo tiene la intencion de servir como mediador entre el sistema y las acciones que un usario con rol de administrador debe ser capaz de ejecutar"
   ]
  },
  {
   "cell_type": "code",
   "execution_count": 9,
   "metadata": {},
   "outputs": [],
   "source": [
    "import sys\n",
    "import os\n",
    "sys.path.append(os.path.abspath(\"..\"))"
   ]
  },
  {
   "cell_type": "markdown",
   "metadata": {},
   "source": [
    "Dentro de las posibles acciones de un administrador esta agregar productos. \n",
    "La manera en que se interactua con los productos es a traves de los repositorios que a su vez median las transaciones con la base de datos. "
   ]
  },
  {
   "cell_type": "code",
   "execution_count": 10,
   "metadata": {},
   "outputs": [
    {
     "name": "stdout",
     "output_type": "stream",
     "text": [
      "[INFO] 23:06:32: Product successfully created.\n"
     ]
    }
   ],
   "source": [
    "\n",
    "from data_access.db.db import SessionLocal\n",
    "from data_access.db.models import Product\n",
    "from data_access.db.repositories import ProductRepository\n",
    "from services.logger import Logger\n",
    "\n",
    "# Crear una nueva instancia de la sesión\n",
    "session = SessionLocal()\n",
    "logger = Logger()\n",
    "try:\n",
    "    # Crear una instancia del repositorio de productos\n",
    "    product_repository = ProductRepository(session)\n",
    "\n",
    "    new_product = Product(\n",
    "        product_name=\"Example Product\",\n",
    "        brand_name=\"Example Brand\",\n",
    "        asin=\"B000123456\",\n",
    "        category=\"Electronics\",\n",
    "        upc_ean_code=\"0123456789012\",\n",
    "        list_price=\"199.99\",\n",
    "        selling_price=\"149.99\",\n",
    "        quantity=50,\n",
    "        model_number=\"EX123\",\n",
    "        about_product=\"This is an example product.\",\n",
    "        product_specification=\"Example specifications\",\n",
    "        technical_details=\"Example technical details\",\n",
    "        shipping_weight=\"2 lbs\",\n",
    "        product_dimensions=\"10x5x3 inches\",\n",
    "        image=\"http://example.com/image.jpg\",\n",
    "        variants=\"Color: Red, Size: Medium\",\n",
    "        sku=\"EX123-RED-M\",\n",
    "        product_url=\"http://example.com/product\",\n",
    "        stock=50,\n",
    "        product_details=\"Detailed information about the product.\",\n",
    "        dimensions=\"10x5x3 inches\",\n",
    "        color=\"Red\",\n",
    "        ingredients=\"N/A\",\n",
    "        direction_to_use=\"Use as needed.\",\n",
    "        is_amazon_seller=True,\n",
    "        size_quantity_variant=\"Medium\",\n",
    "        product_description=\"This is a detailed description of the example product.\"\n",
    "    )\n",
    "\n",
    "    product_repository.add(new_product)\n",
    "    session.commit()  \n",
    "\n",
    "    logger.info(f\"Product successfully created with id: {new_product.unique_id}.\")\n",
    "\n",
    "except Exception as e:\n",
    "    session.rollback() \n",
    "    logger.error(f\"An error occurred while creating the product: {str(e)}\")\n",
    "\n",
    "finally:\n",
    "    session.close()  "
   ]
  }
 ],
 "metadata": {
  "kernelspec": {
   "display_name": "Python 3",
   "language": "python",
   "name": "python3"
  },
  "language_info": {
   "codemirror_mode": {
    "name": "ipython",
    "version": 3
   },
   "file_extension": ".py",
   "mimetype": "text/x-python",
   "name": "python",
   "nbconvert_exporter": "python",
   "pygments_lexer": "ipython3",
   "version": "3.10.7"
  }
 },
 "nbformat": 4,
 "nbformat_minor": 2
}
