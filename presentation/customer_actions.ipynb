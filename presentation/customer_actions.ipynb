{
 "cells": [
  {
   "cell_type": "markdown",
   "metadata": {},
   "source": [
    "## Customer Actions\n",
    "\n",
    "Este archivo tiene la intencion de servir como mediador entre el sistema y las acciones que un usario con rol de customer debe ser capaz de ejecutar. "
   ]
  },
  {
   "cell_type": "code",
   "execution_count": 1,
   "metadata": {},
   "outputs": [],
   "source": [
    "import sys\n",
    "import os\n",
    "sys.path.append(os.path.abspath(\"..\"))"
   ]
  },
  {
   "cell_type": "markdown",
   "metadata": {},
   "source": [
    "### Crear un customer\n",
    "Dentro de las posibles acciones de un customer esta crear su usuario. \n",
    "Para crear un usuario a traves de su repositorio le pasamos sus datos y este se encargara de mediar entre estos y la base de datos "
   ]
  },
  {
   "cell_type": "code",
   "execution_count": 2,
   "metadata": {},
   "outputs": [
    {
     "ename": "ModuleNotFoundError",
     "evalue": "No module named 'sqlalchemy'",
     "output_type": "error",
     "traceback": [
      "\u001b[1;31m---------------------------------------------------------------------------\u001b[0m",
      "\u001b[1;31mModuleNotFoundError\u001b[0m                       Traceback (most recent call last)",
      "Cell \u001b[1;32mIn[2], line 2\u001b[0m\n\u001b[0;32m      1\u001b[0m \u001b[38;5;28;01mfrom\u001b[39;00m \u001b[38;5;21;01mdatetime\u001b[39;00m \u001b[38;5;28;01mimport\u001b[39;00m datetime\n\u001b[1;32m----> 2\u001b[0m \u001b[38;5;28;01mfrom\u001b[39;00m \u001b[38;5;21;01mdata_access\u001b[39;00m\u001b[38;5;21;01m.\u001b[39;00m\u001b[38;5;21;01mdb\u001b[39;00m\u001b[38;5;21;01m.\u001b[39;00m\u001b[38;5;21;01mdb\u001b[39;00m \u001b[38;5;28;01mimport\u001b[39;00m SessionLocal\n\u001b[0;32m      3\u001b[0m \u001b[38;5;28;01mfrom\u001b[39;00m \u001b[38;5;21;01mdata_access\u001b[39;00m\u001b[38;5;21;01m.\u001b[39;00m\u001b[38;5;21;01mdb\u001b[39;00m\u001b[38;5;21;01m.\u001b[39;00m\u001b[38;5;21;01mmodels\u001b[39;00m \u001b[38;5;28;01mimport\u001b[39;00m Customer\n\u001b[0;32m      4\u001b[0m \u001b[38;5;28;01mfrom\u001b[39;00m \u001b[38;5;21;01mdata_access\u001b[39;00m\u001b[38;5;21;01m.\u001b[39;00m\u001b[38;5;21;01mdb\u001b[39;00m\u001b[38;5;21;01m.\u001b[39;00m\u001b[38;5;21;01mrepositories\u001b[39;00m \u001b[38;5;28;01mimport\u001b[39;00m CustomerRepository\n",
      "File \u001b[1;32me:\\Universidad\\3ro\\2do semestre\\SRI\\Final_project\\last version\\Hybrid_techniques_in_Recommender_Systems\\data_access\\db\\db.py:1\u001b[0m\n\u001b[1;32m----> 1\u001b[0m \u001b[38;5;28;01mfrom\u001b[39;00m \u001b[38;5;21;01msqlalchemy\u001b[39;00m \u001b[38;5;28;01mimport\u001b[39;00m create_engine\n\u001b[0;32m      2\u001b[0m \u001b[38;5;28;01mfrom\u001b[39;00m \u001b[38;5;21;01msqlalchemy\u001b[39;00m\u001b[38;5;21;01m.\u001b[39;00m\u001b[38;5;21;01morm\u001b[39;00m \u001b[38;5;28;01mimport\u001b[39;00m sessionmaker, scoped_session\n\u001b[0;32m      3\u001b[0m \u001b[38;5;28;01mfrom\u001b[39;00m \u001b[38;5;21;01m.\u001b[39;00m\u001b[38;5;21;01mmodels\u001b[39;00m \u001b[38;5;28;01mimport\u001b[39;00m Base\n",
      "\u001b[1;31mModuleNotFoundError\u001b[0m: No module named 'sqlalchemy'"
     ]
    }
   ],
   "source": [
    "from data_access.db.db import SessionLocal\n",
    "from data_access.db.models import Customer\n",
    "from data_access.db.repositories import CustomerRepository\n",
    "from services.logger import Logger  # Importa tu clase Customer\n",
    "\n",
    "logger = Logger()\n",
    "\n",
    "# Crear una instancia del repositorio\n",
    "session = SessionLocal\n",
    "customer_repository = CustomerRepository(session)\n",
    "try: \n",
    "    # Crear un nuevo usuario\n",
    "    new_customer = Customer(\n",
    "        age=25,\n",
    "        gender='Male',\n",
    "        item_purchased='Laptop',\n",
    "        category='Electronics',\n",
    "        purchase_amount_usd='1200',\n",
    "        location='New York',\n",
    "        size='Medium',\n",
    "        color='Black',\n",
    "        season='Winter',\n",
    "        review_rating='5',\n",
    "        subscription_status='Active',\n",
    "        shipping_type='Standard',\n",
    "        discount_applied='10%',\n",
    "        promo_code_used='SAVE10',\n",
    "        previous_purchases='Smartphone, Tablet',\n",
    "        payment_method='Credit Card',\n",
    "        frequency_of_purchases='Monthly'\n",
    "    )\n",
    "\n",
    "    customer_repository.add(new_customer)\n",
    "    logger.info(f\"User created successfully with id: {new_customer.customer_id}\")\n",
    "\n",
    "except Exception as e:\n",
    "    session.rollback() \n",
    "    logger.error(f\"An error occurred while creating the user: {str(e)}\")\n",
    "\n",
    "finally: \n",
    "    # Cerrar la sesión\n",
    "    session.close()"
   ]
  },
  {
   "cell_type": "markdown",
   "metadata": {},
   "source": [
    "### Leer productos\n",
    "EL usuario es capaz leer los productos disponibles para sus interacciones con ellos. "
   ]
  },
  {
   "cell_type": "code",
   "execution_count": null,
   "metadata": {},
   "outputs": [],
   "source": [
    "from data_access.db.repositories import ProductRepository\n",
    "from data_access.db.db import SessionLocal\n",
    "from services.logger import Logger\n",
    "\n",
    "logger = Logger()\n",
    "\n",
    "session = SessionLocal()\n",
    "product_repository = ProductRepository(session)\n",
    "products = product_repository.get_all_paginated(page=1, page_size=10)\n",
    "\n",
    "table_data = []\n",
    "for product in products:\n",
    "    table_data.append([product.unique_id, product.product_name, product.about_product])\n",
    "\n",
    "logger.print_markdown_table([\"Id\", \"Name\", \"About\"],table_data)"
   ]
  },
  {
   "cell_type": "markdown",
   "metadata": {},
   "source": [
    "### Interactuar\n",
    "Con el fin de poder usar la tecnica de filtrado colaborativo es necesario llevar un registro de todas las interacciones del cliente con nuestros productos, estos datos seran utilizados para las recomendaciones que se le presentaran "
   ]
  },
  {
   "cell_type": "code",
   "execution_count": null,
   "metadata": {},
   "outputs": [],
   "source": [
    "from data_access.db.repositories import InteractionRepository\n",
    "from data_access.db.db import SessionLocal\n",
    "\n",
    "session = SessionLocal\n",
    "interaction_repository = InteractionRepository(session)\n",
    "\n",
    "user_id = 3093\n",
    "product_id = '4c69b61db1fc16e7013b43fc926e502d'\n",
    "# Interaction types: 'view' 'like' 'purchase'\n",
    "interaction_type = 'like'\n",
    "description = 'User liked the product'\n",
    "\n",
    "interaction = interaction_repository.create_interaction(user_id, product_id, interaction_type, description)"
   ]
  },
  {
   "cell_type": "markdown",
   "metadata": {},
   "source": [
    "### Obtener recomendaciones\n",
    "\n",
    "Para la obtencion de recomendaciones se usa la clase \"FilterPipe\" que lo que hace es recibir un array de instancias de los filtros y los aplica secuencialmente. \n"
   ]
  },
  {
   "cell_type": "code",
   "execution_count": null,
   "metadata": {},
   "outputs": [],
   "source": [
    "from filters.collaborative_filter import CollaborativeFilter\n",
    "from data_access.db.db import SessionLocal\n",
    "from filters.content_based_filter import ContentBaseFilter\n",
    "from filters.filter_pipe import FilterPipe\n",
    "from models.context_model import Context\n",
    "from data_access.db.repositories import ProductRepository\n",
    "\n",
    "session = SessionLocal\n",
    "filter_pipe = FilterPipe([\n",
    "    ContentBaseFilter(session),\n",
    "    CollaborativeFilter(session)\n",
    "])\n",
    "products = ProductRepository(session).get_all()\n",
    "\n",
    "user_id = 3093\n",
    "context = Context(products,user_id,10)\n",
    "\n",
    "result = filter_pipe.apply_filters(context)\n",
    "result.show_recommendations()\n"
   ]
  }
 ],
 "metadata": {
  "kernelspec": {
   "display_name": "Python 3",
   "language": "python",
   "name": "python3"
  },
  "language_info": {
   "codemirror_mode": {
    "name": "ipython",
    "version": 3
   },
   "file_extension": ".py",
   "mimetype": "text/x-python",
   "name": "python",
   "nbconvert_exporter": "python",
   "pygments_lexer": "ipython3",
   "version": "3.12.5"
  }
 },
 "nbformat": 4,
 "nbformat_minor": 2
}
