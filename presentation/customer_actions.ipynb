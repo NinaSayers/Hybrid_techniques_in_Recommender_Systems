{
 "cells": [
  {
   "cell_type": "markdown",
   "metadata": {},
   "source": [
    "## Customer Actions\n",
    "\n",
    "Este archivo tiene la intencion de servir como mediador entre el sistema y las acciones que un usario con rol de customer debe ser capaz de ejecutar. "
   ]
  },
  {
   "cell_type": "code",
   "execution_count": null,
   "metadata": {},
   "outputs": [],
   "source": [
    "import sys\n",
    "import os\n",
    "sys.path.append(os.path.abspath(\"..\"))"
   ]
  },
  {
   "cell_type": "markdown",
   "metadata": {},
   "source": [
    "### Crear un customer\n",
    "Dentro de las posibles acciones de un customer esta crear su usuario. \n",
    "Para crear un usuario a traves de su repositorio le pasamos sus datos y este se encargara de mediar entre estos y la base de datos "
   ]
  },
  {
   "cell_type": "code",
   "execution_count": null,
   "metadata": {},
   "outputs": [],
   "source": [
    "from datetime import datetime\n",
    "from data_access.db.db import SessionLocal\n",
    "from data_access.db.models import Customer\n",
    "from data_access.db.repositories import CustomerRepository\n",
    "from services.logger import Logger  # Importa tu clase Customer\n",
    "\n",
    "logger = Logger()\n",
    "\n",
    "# Crear una instancia del repositorio\n",
    "session = SessionLocal\n",
    "customer_repository = CustomerRepository(session)\n",
    "try: \n",
    "    # Crear un nuevo usuario\n",
    "    new_customer = Customer(\n",
    "        age=25,\n",
    "        gender='Male',\n",
    "        item_purchased='Laptop',\n",
    "        category='Electronics',\n",
    "        purchase_amount_usd='1200',\n",
    "        location='New York',\n",
    "        size='Medium',\n",
    "        color='Black',\n",
    "        season='Winter',\n",
    "        review_rating='5',\n",
    "        subscription_status='Active',\n",
    "        shipping_type='Standard',\n",
    "        discount_applied='10%',\n",
    "        promo_code_used='SAVE10',\n",
    "        previous_purchases='Smartphone, Tablet',\n",
    "        payment_method='Credit Card',\n",
    "        frequency_of_purchases='Monthly'\n",
    "    )\n",
    "\n",
    "    customer_repository.add(new_customer)\n",
    "    logger.info(f\"User created successfully with id: {new_customer.customer_id}\")\n",
    "\n",
    "except Exception as e:\n",
    "    session.rollback() \n",
    "    logger.error(f\"An error occurred while creating the user: {str(e)}\")\n",
    "\n",
    "finally: \n",
    "    # Cerrar la sesión\n",
    "    session.close()"
   ]
  },
  {
   "cell_type": "markdown",
   "metadata": {},
   "source": [
    "### Leer productos\n",
    "EL usuario es capaz leer los productos disponibles para sus interacciones con ellos. "
   ]
  },
  {
   "cell_type": "code",
   "execution_count": null,
   "metadata": {},
   "outputs": [],
   "source": [
    "from data_access.db.repositories import ProductRepository\n",
    "from data_access.db.db import SessionLocal\n",
    "from services.logger import Logger\n",
    "\n",
    "logger = Logger()\n",
    "\n",
    "session = SessionLocal()\n",
    "product_repository = ProductRepository(session)\n",
    "products = product_repository.get_all_paginated(page=1, page_size=10)\n",
    "\n",
    "table_data = []\n",
    "for product in products:\n",
    "    table_data.append([product.unique_id, product.product_name, product.about_product])\n",
    "\n",
    "logger.print_markdown_table([\"Id\", \"Name\", \"About\"],table_data)"
   ]
  },
  {
   "cell_type": "markdown",
   "metadata": {},
   "source": [
    "### Interactuar\n",
    "Con el fin de poder usar la tecnica de filtrado colaborativo es necesario llevar un registro de todas las interacciones del cliente con nuestros productos, estos datos seran utilizados para las recomendaciones que se le presentaran "
   ]
  },
  {
   "cell_type": "code",
   "execution_count": null,
   "metadata": {},
   "outputs": [],
   "source": [
    "from data_access.db.repositories import InteractionRepository\n",
    "from data_access.db.db import SessionLocal\n",
    "\n",
    "session = SessionLocal\n",
    "interaction_repository = InteractionRepository(session)\n",
    "\n",
    "user_id = 3093\n",
    "product_id = '66d49bbed043f5be260fa9f7fbff5957'\n",
    "# Interaction types: 'view' 'like' 'purchase'\n",
    "interaction_type = 'view'\n",
    "description = 'User viewed the product'\n",
    "\n",
    "interaction = interaction_repository.create_interaction(user_id, product_id, interaction_type, description)"
   ]
  },
  {
   "cell_type": "markdown",
   "metadata": {},
   "source": [
    "### Obtener recomendaciones\n"
   ]
  },
  {
   "cell_type": "code",
   "execution_count": null,
   "metadata": {},
   "outputs": [],
   "source": [
    "from filters.collaborative_filter import CollaborativeFilter\n",
    "from data_access.db.db import SessionLocal\n",
    "from filters.content_based_filter import ContentBaseFilter\n",
    "from filters.filter_pipe import FilterPipe\n",
    "from models.context_model import Context\n",
    "from data_access.db.repositories import ProductRepository\n",
    "\n",
    "session = SessionLocal\n",
    "filter_pipe = FilterPipe([ContentBaseFilter(session),CollaborativeFilter(session)])\n",
    "\n",
    "# filter = CollaborativeFilter(session)\n",
    "# filter = ContentBaseFilter(session)\n",
    "\n",
    "products = ProductRepository(session).get_all_paginated(1,10)\n",
    "\n",
    "user_id = 3094\n",
    "context = Context(products,user_id,10)\n",
    "\n",
    "result = filter_pipe.apply_filters(context)\n",
    "result.show_recommendations()\n"
   ]
  }
 ],
 "metadata": {
  "kernelspec": {
   "display_name": "Python 3",
   "language": "python",
   "name": "python3"
  },
  "language_info": {
   "codemirror_mode": {
    "name": "ipython",
    "version": 3
   },
   "file_extension": ".py",
   "mimetype": "text/x-python",
   "name": "python",
   "nbconvert_exporter": "python",
   "pygments_lexer": "ipython3",
   "version": "3.10.7"
  }
 },
 "nbformat": 4,
 "nbformat_minor": 2
}
