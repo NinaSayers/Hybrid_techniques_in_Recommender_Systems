{
 "cells": [
  {
   "cell_type": "code",
   "execution_count": 5,
   "metadata": {},
   "outputs": [],
   "source": [
    "import pandas as pd \n",
    "\n",
    "user_data = pd.read_csv('persistence/customer_details.csv')\n",
    "sales_data = pd.read_csv('persistence/sales_details.csv')\n",
    "products_data = pd.read_csv('persistence/product_details.csv')\n"
   ]
  },
  {
   "cell_type": "code",
   "execution_count": null,
   "metadata": {},
   "outputs": [],
   "source": [
    "class Customer:\n",
    "    def __init__(self, customer_id, age, gender, item_purchased, category, purchase_amount, location, size, color, season, review_rating, subscription_status, shipping_type, discount_applied, promo_code_used, previous_purchases, payment_method, frequency_of_purchases):\n",
    "        self.customer_id = customer_id\n",
    "        self.age = age\n",
    "        self.gender = gender\n",
    "        self.item_purchased = item_purchased\n",
    "        self.category = category\n",
    "        self.purchase_amount = purchase_amount\n",
    "        self.location = location\n",
    "        self.size = size\n",
    "        self.color = color\n",
    "        self.season = season\n",
    "        self.review_rating = review_rating\n",
    "        self.subscription_status = subscription_status\n",
    "        self.shipping_type = shipping_type\n",
    "        self.discount_applied = discount_applied\n",
    "        self.promo_code_used = promo_code_used\n",
    "        self.previous_purchases = previous_purchases\n",
    "        self.payment_method = payment_method\n",
    "        self.frequency_of_purchases = frequency_of_purchases\n",
    "\n",
    "    def __repr__(self):\n",
    "        return (f\"Customer({self.customer_id}, {self.age}, {self.gender}, {self.item_purchased}, {self.category}, \"\n",
    "                f\"{self.purchase_amount}, {self.location}, {self.size}, {self.color}, {self.season}, {self.review_rating}, \"\n",
    "                f\"{self.subscription_status}, {self.shipping_type}, {self.discount_applied}, {self.promo_code_used}, \"\n",
    "                f\"{self.previous_purchases}, {self.payment_method}, {self.frequency_of_purchases})\")\n",
    "customers = []\n",
    "\n",
    "for index, row in user_data.iterrows():\n",
    "    customer = Customer(\n",
    "        row['Customer ID'],\n",
    "        row['Age'],\n",
    "        row['Gender'],\n",
    "        row['Item Purchased'],\n",
    "        row['Category'],\n",
    "        row['Purchase Amount (USD)'],\n",
    "        row['Location'],\n",
    "        row['Size'],\n",
    "        row['Color'],\n",
    "        row['Season'],\n",
    "        row['Review Rating'],\n",
    "        row['Subscription Status'],\n",
    "        row['Shipping Type'],\n",
    "        row['Discount Applied'],\n",
    "        row['Promo Code Used'],\n",
    "        row['Previous Purchases'],\n",
    "        row['Payment Method'],\n",
    "        row['Frequency of Purchases']\n",
    "    )\n",
    "    customers.append(customer)\n",
    "\n",
    "# Imprimir la lista de clientes\n",
    "for customer in customers:\n",
    "    print(customer)"
   ]
  },
  {
   "cell_type": "code",
   "execution_count": null,
   "metadata": {},
   "outputs": [],
   "source": []
  }
 ],
 "metadata": {
  "kernelspec": {
   "display_name": "Python 3",
   "language": "python",
   "name": "python3"
  },
  "language_info": {
   "codemirror_mode": {
    "name": "ipython",
    "version": 3
   },
   "file_extension": ".py",
   "mimetype": "text/x-python",
   "name": "python",
   "nbconvert_exporter": "python",
   "pygments_lexer": "ipython3",
   "version": "3.12.5"
  }
 },
 "nbformat": 4,
 "nbformat_minor": 2
}
